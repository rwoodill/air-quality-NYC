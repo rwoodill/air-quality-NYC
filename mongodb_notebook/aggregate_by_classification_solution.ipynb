{
 "cells": [
  {
   "cell_type": "code",
   "execution_count": 2,
   "id": "3ef948f0",
   "metadata": {},
   "outputs": [],
   "source": [
    "# Import dependencies\n",
    "from pymongo import MongoClient\n",
    "from pprint import pprint\n",
    "import pandas as pd"
   ]
  },
  {
   "cell_type": "code",
   "execution_count": 3,
   "id": "f8f7234a",
   "metadata": {},
   "outputs": [
    {
     "name": "stdout",
     "output_type": "stream",
     "text": [
      "['project_three_data', 'admin', 'local']\n",
      "['nyc_truck_routes', 'tree_census_2015', 'ny_air_quality_expanded', 'nyc_truck_routes_2', 'ny_air_quality']\n"
     ]
    }
   ],
   "source": [
    "# Create an instance of MongoClient\n",
    "mongo = MongoClient(host='')\n",
    "\n",
    "print(mongo.list_database_names())\n",
    "db = mongo['project_three_data']\n",
    "print(db.list_collection_names())"
   ]
  },
  {
   "cell_type": "code",
   "execution_count": 57,
   "metadata": {},
   "outputs": [
    {
     "data": {
      "text/plain": [
       "{'_id': ObjectId('656b691bb11eaa40b8bd74f7'),\n",
       " 'features': {'type': 'Feature',\n",
       "  'geometry': {'type': 'Point', 'coordinates': [-73.05754, 40.82799]},\n",
       "  'properties': {'state_code': '36',\n",
       "   'county_code': '103',\n",
       "   'site_number': '0009',\n",
       "   'parameter_code': '45201',\n",
       "   'poc': 1,\n",
       "   'latitude': 40.82799,\n",
       "   'longitude': -73.05754,\n",
       "   'datum': 'WGS84',\n",
       "   'parameter': 'Benzene',\n",
       "   'sample_duration': '24 HOUR',\n",
       "   'sample_duration_code': '7',\n",
       "   'sample_duration_type': 'O',\n",
       "   'pollutant_standard': None,\n",
       "   'year': 2005,\n",
       "   'quarter': '1',\n",
       "   'units_of_measure': 'Parts per billion Carbon',\n",
       "   'event_type': 'No Events',\n",
       "   'observation_count': 15,\n",
       "   'observation_percent': '100.0',\n",
       "   'arithmetic_mean': 1.5324,\n",
       "   'minimum_value': None,\n",
       "   'maximum_value': None,\n",
       "   'quarterly_criteria_met': 'Y',\n",
       "   'actual_days_gt_std': None,\n",
       "   'estimated_days_gt_std': None,\n",
       "   'valid_samples': '15.0',\n",
       "   'valid_day_count': '15.0',\n",
       "   'scheduled_samples': None,\n",
       "   'percent_days': None,\n",
       "   'percent_one_value': '17.0',\n",
       "   'monitoring_agency_code': '1310',\n",
       "   'monitoring_agency': 'County of Suffolk (NY) Division of Environmental Quality',\n",
       "   'local_site_name': 'HOLTSVILLE',\n",
       "   'address': '57 DIVISION STREET',\n",
       "   'state': 'New York',\n",
       "   'county': 'Suffolk',\n",
       "   'city': 'Holtsville',\n",
       "   'tribal_code': None,\n",
       "   'tribal_land': None,\n",
       "   'cbsa_code': '35620',\n",
       "   'cbsa': 'New York-Newark-Jersey City, NY-NJ-PA',\n",
       "   'date_of_last_change': '2011-04-23'}}}"
      ]
     },
     "execution_count": 57,
     "metadata": {},
     "output_type": "execute_result"
    }
   ],
   "source": [
    "airquality = db['ny_air_quality_expanded']\n",
    "airquality.find_one()"
   ]
  },
  {
   "cell_type": "code",
   "execution_count": 69,
   "id": "58d6c4d0",
   "metadata": {},
   "outputs": [],
   "source": [
    "# Write an aggregation query that counts the number of documents, grouped by \"classification\"\n",
    "query = [{'$group': {'_id': \"$features.geometry.coordinates\", 'count': { '$sum': 1 }}}]\n",
    "query2 = [{'$group': {'_id': \"$features.properties.parameter\", 'count': { '$sum': 1 }}}]"
   ]
  },
  {
   "cell_type": "code",
   "execution_count": 70,
   "id": "e522f2a8",
   "metadata": {},
   "outputs": [
    {
     "name": "stdout",
     "output_type": "stream",
     "text": [
      "[{'_id': [-74.15178, 40.58056], 'count': 4}, {'_id': [-78.89926, 42.99813], 'count': 4}, {'_id': [-77.20978, 42.09142], 'count': 4}, {'_id': [-73.88083, 40.86585], 'count': 10}, {'_id': [-73.84757, 40.7842], 'count': 4}, {'_id': [-77.54817, 43.14618], 'count': 8}, {'_id': [-73.68909, 42.73194], 'count': 4}, {'_id': [-78.809526, 42.876907], 'count': 4}, {'_id': [-73.96661, 40.75912], 'count': 4}, {'_id': [-73.902, 40.816], 'count': 16}, {'_id': [-73.8589, 44.39308], 'count': 8}, {'_id': [-78.84984, 42.8273], 'count': 4}, {'_id': [-79.00106, 43.08218], 'count': 4}, {'_id': [-73.92769, 40.69454], 'count': 8}, {'_id': [-73.82153, 40.73614], 'count': 12}, {'_id': [-73.05754, 40.82799], 'count': 4}, {'_id': [-74.19832, 40.58027], 'count': 8}, {'_id': [-73.87809, 40.8679], 'count': 10}, {'_id': [-78.91859, 42.98844], 'count': 12}, {'_id': [-73.756511, 42.640931], 'count': 4}]\n",
      "[{'_id': 'Benzene', 'count': 136}]\n"
     ]
    }
   ],
   "source": [
    "# Run the query with the aggregate method and save the results to a variable\n",
    "results = list(airquality.aggregate(query))\n",
    "results2 = list(airquality.aggregate(query2))\n",
    "print(results)\n",
    "print(results2)"
   ]
  },
  {
   "cell_type": "code",
   "execution_count": 62,
   "id": "20d84432",
   "metadata": {},
   "outputs": [
    {
     "name": "stdout",
     "output_type": "stream",
     "text": [
      "Number of locations in result:  20\n",
      "Number of locations in result:  1\n"
     ]
    }
   ],
   "source": [
    "# Print the number of classifications in the result\n",
    "print(\"Number of locations in result: \", len(results))\n",
    "print(\"Number of locations in result: \", len(results2))"
   ]
  },
  {
   "cell_type": "code",
   "execution_count": 8,
   "id": "e403ee13",
   "metadata": {},
   "outputs": [
    {
     "name": "stdout",
     "output_type": "stream",
     "text": [
      "[{'_id': [-73.756511, 42.640931], 'count': 4},\n",
      " {'_id': [-77.20978, 42.09142], 'count': 4},\n",
      " {'_id': [-78.89926, 42.99813], 'count': 4},\n",
      " {'_id': [-77.54817, 43.14618], 'count': 8},\n",
      " {'_id': [-73.84757, 40.7842], 'count': 4},\n",
      " {'_id': [-73.88083, 40.86585], 'count': 10},\n",
      " {'_id': [-73.68909, 42.73194], 'count': 4},\n",
      " {'_id': [-78.809526, 42.876907], 'count': 4},\n",
      " {'_id': [-73.902, 40.816], 'count': 16},\n",
      " {'_id': [-73.96661, 40.75912], 'count': 4},\n",
      " {'_id': [-73.92769, 40.69454], 'count': 8},\n",
      " {'_id': [-78.84984, 42.8273], 'count': 4},\n",
      " {'_id': [-79.00106, 43.08218], 'count': 4},\n",
      " {'_id': [-74.19832, 40.58027], 'count': 8},\n",
      " {'_id': [-73.05754, 40.82799], 'count': 4},\n",
      " {'_id': [-73.82153, 40.73614], 'count': 12},\n",
      " {'_id': [-73.8589, 44.39308], 'count': 8},\n",
      " {'_id': [-74.15178, 40.58056], 'count': 4},\n",
      " {'_id': [-73.87809, 40.8679], 'count': 10},\n",
      " {'_id': [-78.91859, 42.98844], 'count': 12}]\n"
     ]
    }
   ],
   "source": [
    "# Print the first 10 results\n",
    "pprint(results)"
   ]
  },
  {
   "cell_type": "code",
   "execution_count": 43,
   "id": "ed3dfa60",
   "metadata": {},
   "outputs": [
    {
     "name": "stdout",
     "output_type": "stream",
     "text": [
      "[-73.902, 40.816] <class 'float'>\n",
      "[-73.96661, 40.75912] <class 'float'>\n",
      "[-78.84984, 42.8273] <class 'float'>\n",
      "[-73.8589, 44.39308] <class 'float'>\n",
      "[-73.92769, 40.69454] <class 'float'>\n",
      "[-79.00106, 43.08218] <class 'float'>\n",
      "[-73.82153, 40.73614] <class 'float'>\n",
      "[-78.91859, 42.98844] <class 'float'>\n",
      "[-74.19832, 40.58027] <class 'float'>\n",
      "[-73.05754, 40.82799] <class 'float'>\n",
      "[-73.87809, 40.8679] <class 'float'>\n",
      "[-73.756511, 42.640931] <class 'float'>\n",
      "[-74.15178, 40.58056] <class 'float'>\n",
      "[-77.20978, 42.09142] <class 'float'>\n",
      "[-78.89926, 42.99813] <class 'float'>\n",
      "[-73.88083, 40.86585] <class 'float'>\n",
      "[-77.54817, 43.14618] <class 'float'>\n",
      "[-73.84757, 40.7842] <class 'float'>\n",
      "[-73.68909, 42.73194] <class 'float'>\n",
      "[-78.809526, 42.876907] <class 'float'>\n"
     ]
    }
   ],
   "source": [
    "stations = [{'name':'1','coordinates': [-73.902, 40.816]},\n",
    "            {'name':'2','coordinates': [-73.96661, 40.75912]},\n",
    "            {'name':'3','coordinates': [-78.84984, 42.8273]},\n",
    "            {'name':'4','coordinates': [-73.8589, 44.39308]},\n",
    "            {'name':'5','coordinates': [-73.92769, 40.69454]},\n",
    "            {'name':'6','coordinates': [-79.00106, 43.08218]},\n",
    "            {'name':'7','coordinates': [-73.82153, 40.73614]},\n",
    "            {'name':'8','coordinates': [-78.91859, 42.98844]},\n",
    "            {'name':'9','coordinates': [-74.19832, 40.58027]},\n",
    "            {'name':'10','coordinates': [-73.05754, 40.82799]},\n",
    "            {'name':'11','coordinates': [-73.87809, 40.8679]},\n",
    "            {'name':'12','coordinates': [-73.756511, 42.640931]},\n",
    "            {'name':'13','coordinates': [-74.15178, 40.58056]},\n",
    "            {'name':'14','coordinates': [-77.20978, 42.09142]},\n",
    "            {'name':'15','coordinates': [-78.89926, 42.99813]},\n",
    "            {'name':'16','coordinates': [-73.88083, 40.86585]},\n",
    "            {'name':'17','coordinates': [-77.54817, 43.14618]},\n",
    "            {'name':'18','coordinates': [-73.84757, 40.7842]},\n",
    "            {'name':'19','coordinates': [-73.68909, 42.73194]},\n",
    "            {'name':'20','coordinates': [-78.809526, 42.876907]}]\n",
    "for s in stations:\n",
    "    print(s['coordinates'], type(s['coordinates']))"
   ]
  },
  {
   "cell_type": "code",
   "execution_count": 56,
   "metadata": {},
   "outputs": [
    {
     "name": "stdout",
     "output_type": "stream",
     "text": [
      "{'_id': ObjectId('656b691bb11eaa40b8bd7509'), 'features': {'type': 'Feature', 'geometry': {'type': 'Point', 'coordinates': [-73.902, 40.816]}, 'properties': {'state_code': '36', 'county_code': '005', 'site_number': '0110', 'parameter_code': '45201', 'poc': 2, 'latitude': 40.816, 'longitude': -73.902, 'datum': 'WGS84', 'parameter': 'Benzene', 'sample_duration': '24 HOUR', 'sample_duration_code': '7', 'sample_duration_type': 'O', 'pollutant_standard': None, 'year': 2005, 'quarter': '4', 'units_of_measure': 'Parts per billion Carbon', 'event_type': 'No Events', 'observation_count': 16, 'observation_percent': '100.0', 'arithmetic_mean': 2.4313, 'minimum_value': '1.1', 'maximum_value': '4.7', 'quarterly_criteria_met': 'Y', 'actual_days_gt_std': None, 'estimated_days_gt_std': None, 'valid_samples': '16.0', 'valid_day_count': '16.0', 'scheduled_samples': '16.0', 'percent_days': 17.4, 'percent_one_value': '17.0', 'monitoring_agency_code': '0768', 'monitoring_agency': 'New York State Department Of Environmental Conservation', 'local_site_name': 'IS 52', 'address': 'IS 52    681 KELLY ST', 'state': 'New York', 'county': 'Bronx', 'city': 'New York', 'tribal_code': None, 'tribal_land': None, 'cbsa_code': '35620', 'cbsa': 'New York-Newark-Jersey City, NY-NJ-PA', 'date_of_last_change': '2014-04-07'}}}\n",
      "{'_id': ObjectId('656b691bb11eaa40b8bd750a'), 'features': {'type': 'Feature', 'geometry': {'type': 'Point', 'coordinates': [-73.902, 40.816]}, 'properties': {'state_code': '36', 'county_code': '005', 'site_number': '0110', 'parameter_code': '45201', 'poc': 2, 'latitude': 40.816, 'longitude': -73.902, 'datum': 'WGS84', 'parameter': 'Benzene', 'sample_duration': '24 HOUR', 'sample_duration_code': '7', 'sample_duration_type': 'O', 'pollutant_standard': None, 'year': 2005, 'quarter': '1', 'units_of_measure': 'Parts per billion Carbon', 'event_type': 'No Events', 'observation_count': 15, 'observation_percent': '100.0', 'arithmetic_mean': 2.5667, 'minimum_value': '1.5', 'maximum_value': '4.8', 'quarterly_criteria_met': 'Y', 'actual_days_gt_std': None, 'estimated_days_gt_std': None, 'valid_samples': '15.0', 'valid_day_count': '15.0', 'scheduled_samples': '15.0', 'percent_days': 16.7, 'percent_one_value': '17.0', 'monitoring_agency_code': '0768', 'monitoring_agency': 'New York State Department Of Environmental Conservation', 'local_site_name': 'IS 52', 'address': 'IS 52    681 KELLY ST', 'state': 'New York', 'county': 'Bronx', 'city': 'New York', 'tribal_code': None, 'tribal_land': None, 'cbsa_code': '35620', 'cbsa': 'New York-Newark-Jersey City, NY-NJ-PA', 'date_of_last_change': '2014-04-07'}}}\n",
      "{'_id': ObjectId('656b691bb11eaa40b8bd750b'), 'features': {'type': 'Feature', 'geometry': {'type': 'Point', 'coordinates': [-73.902, 40.816]}, 'properties': {'state_code': '36', 'county_code': '005', 'site_number': '0110', 'parameter_code': '45201', 'poc': 2, 'latitude': 40.816, 'longitude': -73.902, 'datum': 'WGS84', 'parameter': 'Benzene', 'sample_duration': '24 HOUR', 'sample_duration_code': '7', 'sample_duration_type': 'O', 'pollutant_standard': None, 'year': 2005, 'quarter': '2', 'units_of_measure': 'Parts per billion Carbon', 'event_type': 'No Events', 'observation_count': 15, 'observation_percent': '100.0', 'arithmetic_mean': 2.0267, 'minimum_value': '1.3', 'maximum_value': '3.7', 'quarterly_criteria_met': 'Y', 'actual_days_gt_std': None, 'estimated_days_gt_std': None, 'valid_samples': '15.0', 'valid_day_count': '15.0', 'scheduled_samples': '15.0', 'percent_days': 16.5, 'percent_one_value': '16.0', 'monitoring_agency_code': '0768', 'monitoring_agency': 'New York State Department Of Environmental Conservation', 'local_site_name': 'IS 52', 'address': 'IS 52    681 KELLY ST', 'state': 'New York', 'county': 'Bronx', 'city': 'New York', 'tribal_code': None, 'tribal_land': None, 'cbsa_code': '35620', 'cbsa': 'New York-Newark-Jersey City, NY-NJ-PA', 'date_of_last_change': '2014-04-07'}}}\n",
      "{'_id': ObjectId('656b691bb11eaa40b8bd750c'), 'features': {'type': 'Feature', 'geometry': {'type': 'Point', 'coordinates': [-73.902, 40.816]}, 'properties': {'state_code': '36', 'county_code': '005', 'site_number': '0110', 'parameter_code': '45201', 'poc': 2, 'latitude': 40.816, 'longitude': -73.902, 'datum': 'WGS84', 'parameter': 'Benzene', 'sample_duration': '24 HOUR', 'sample_duration_code': '7', 'sample_duration_type': 'O', 'pollutant_standard': None, 'year': 2005, 'quarter': '3', 'units_of_measure': 'Parts per billion Carbon', 'event_type': 'No Events', 'observation_count': 14, 'observation_percent': '93.0', 'arithmetic_mean': 2.1357, 'minimum_value': '1.6', 'maximum_value': '3.2', 'quarterly_criteria_met': 'Y', 'actual_days_gt_std': None, 'estimated_days_gt_std': None, 'valid_samples': '14.0', 'valid_day_count': '14.0', 'scheduled_samples': '15.0', 'percent_days': 15.2, 'percent_one_value': '15.0', 'monitoring_agency_code': '0768', 'monitoring_agency': 'New York State Department Of Environmental Conservation', 'local_site_name': 'IS 52', 'address': 'IS 52    681 KELLY ST', 'state': 'New York', 'county': 'Bronx', 'city': 'New York', 'tribal_code': None, 'tribal_land': None, 'cbsa_code': '35620', 'cbsa': 'New York-Newark-Jersey City, NY-NJ-PA', 'date_of_last_change': '2014-04-07'}}}\n",
      "{'_id': ObjectId('656b691bb11eaa40b8bd7539'), 'features': {'type': 'Feature', 'geometry': {'type': 'Point', 'coordinates': [-73.902, 40.816]}, 'properties': {'state_code': '36', 'county_code': '005', 'site_number': '0110', 'parameter_code': '45201', 'poc': 2, 'latitude': 40.816, 'longitude': -73.902, 'datum': 'WGS84', 'parameter': 'Benzene', 'sample_duration': '24 HOUR', 'sample_duration_code': '7', 'sample_duration_type': 'O', 'pollutant_standard': None, 'year': 2015, 'quarter': '1', 'units_of_measure': 'Parts per billion Carbon', 'event_type': 'No Events', 'observation_count': 14, 'observation_percent': '93.0', 'arithmetic_mean': 2.2571, 'minimum_value': '1.2', 'maximum_value': '4.4', 'quarterly_criteria_met': 'Y', 'actual_days_gt_std': None, 'estimated_days_gt_std': None, 'valid_samples': '14.0', 'valid_day_count': '14.0', 'scheduled_samples': '15.0', 'percent_days': 15.6, 'percent_one_value': '16.0', 'monitoring_agency_code': '0768', 'monitoring_agency': 'New York State Department Of Environmental Conservation', 'local_site_name': 'IS 52', 'address': 'IS 52    681 KELLY ST', 'state': 'New York', 'county': 'Bronx', 'city': 'New York', 'tribal_code': None, 'tribal_land': None, 'cbsa_code': '35620', 'cbsa': 'New York-Newark-Jersey City, NY-NJ-PA', 'date_of_last_change': '2015-07-09'}}}\n",
      "{'_id': ObjectId('656b691bb11eaa40b8bd753a'), 'features': {'type': 'Feature', 'geometry': {'type': 'Point', 'coordinates': [-73.902, 40.816]}, 'properties': {'state_code': '36', 'county_code': '005', 'site_number': '0110', 'parameter_code': '45201', 'poc': 2, 'latitude': 40.816, 'longitude': -73.902, 'datum': 'WGS84', 'parameter': 'Benzene', 'sample_duration': '24 HOUR', 'sample_duration_code': '7', 'sample_duration_type': 'O', 'pollutant_standard': None, 'year': 2015, 'quarter': '2', 'units_of_measure': 'Parts per billion Carbon', 'event_type': 'No Events', 'observation_count': 14, 'observation_percent': '93.0', 'arithmetic_mean': 0.9143, 'minimum_value': '0.6', 'maximum_value': '1.5', 'quarterly_criteria_met': 'Y', 'actual_days_gt_std': None, 'estimated_days_gt_std': None, 'valid_samples': '14.0', 'valid_day_count': '14.0', 'scheduled_samples': '15.0', 'percent_days': 15.4, 'percent_one_value': '15.0', 'monitoring_agency_code': '0768', 'monitoring_agency': 'New York State Department Of Environmental Conservation', 'local_site_name': 'IS 52', 'address': 'IS 52    681 KELLY ST', 'state': 'New York', 'county': 'Bronx', 'city': 'New York', 'tribal_code': None, 'tribal_land': None, 'cbsa_code': '35620', 'cbsa': 'New York-Newark-Jersey City, NY-NJ-PA', 'date_of_last_change': '2015-09-28'}}}\n",
      "{'_id': ObjectId('656b691bb11eaa40b8bd753b'), 'features': {'type': 'Feature', 'geometry': {'type': 'Point', 'coordinates': [-73.902, 40.816]}, 'properties': {'state_code': '36', 'county_code': '005', 'site_number': '0110', 'parameter_code': '45201', 'poc': 2, 'latitude': 40.816, 'longitude': -73.902, 'datum': 'WGS84', 'parameter': 'Benzene', 'sample_duration': '24 HOUR', 'sample_duration_code': '7', 'sample_duration_type': 'O', 'pollutant_standard': None, 'year': 2015, 'quarter': '3', 'units_of_measure': 'Parts per billion Carbon', 'event_type': 'No Events', 'observation_count': 15, 'observation_percent': '100.0', 'arithmetic_mean': 0.9267, 'minimum_value': '0.5', 'maximum_value': '1.7', 'quarterly_criteria_met': 'Y', 'actual_days_gt_std': None, 'estimated_days_gt_std': None, 'valid_samples': '15.0', 'valid_day_count': '15.0', 'scheduled_samples': '15.0', 'percent_days': 16.3, 'percent_one_value': '16.0', 'monitoring_agency_code': '0768', 'monitoring_agency': 'New York State Department Of Environmental Conservation', 'local_site_name': 'IS 52', 'address': 'IS 52    681 KELLY ST', 'state': 'New York', 'county': 'Bronx', 'city': 'New York', 'tribal_code': None, 'tribal_land': None, 'cbsa_code': '35620', 'cbsa': 'New York-Newark-Jersey City, NY-NJ-PA', 'date_of_last_change': '2021-11-08'}}}\n",
      "{'_id': ObjectId('656b691bb11eaa40b8bd753c'), 'features': {'type': 'Feature', 'geometry': {'type': 'Point', 'coordinates': [-73.902, 40.816]}, 'properties': {'state_code': '36', 'county_code': '005', 'site_number': '0110', 'parameter_code': '45201', 'poc': 2, 'latitude': 40.816, 'longitude': -73.902, 'datum': 'WGS84', 'parameter': 'Benzene', 'sample_duration': '24 HOUR', 'sample_duration_code': '7', 'sample_duration_type': 'O', 'pollutant_standard': None, 'year': 2015, 'quarter': '4', 'units_of_measure': 'Parts per billion Carbon', 'event_type': 'No Events', 'observation_count': 13, 'observation_percent': '87.0', 'arithmetic_mean': 1.6077, 'minimum_value': '0.6', 'maximum_value': '3.5', 'quarterly_criteria_met': 'Y', 'actual_days_gt_std': None, 'estimated_days_gt_std': None, 'valid_samples': '13.0', 'valid_day_count': '13.0', 'scheduled_samples': '15.0', 'percent_days': 14.1, 'percent_one_value': '14.0', 'monitoring_agency_code': '0768', 'monitoring_agency': 'New York State Department Of Environmental Conservation', 'local_site_name': 'IS 52', 'address': 'IS 52    681 KELLY ST', 'state': 'New York', 'county': 'Bronx', 'city': 'New York', 'tribal_code': None, 'tribal_land': None, 'cbsa_code': '35620', 'cbsa': 'New York-Newark-Jersey City, NY-NJ-PA', 'date_of_last_change': '2021-11-08'}}}\n",
      "{'_id': ObjectId('656b691bb11eaa40b8bd753d'), 'features': {'type': 'Feature', 'geometry': {'type': 'Point', 'coordinates': [-73.902, 40.816]}, 'properties': {'state_code': '36', 'county_code': '005', 'site_number': '0110', 'parameter_code': '45201', 'poc': 10, 'latitude': 40.816, 'longitude': -73.902, 'datum': 'WGS84', 'parameter': 'Benzene', 'sample_duration': '24 HOUR', 'sample_duration_code': '7', 'sample_duration_type': 'O', 'pollutant_standard': None, 'year': 2015, 'quarter': '1', 'units_of_measure': 'Parts per billion Carbon', 'event_type': 'No Events', 'observation_count': 14, 'observation_percent': '93.0', 'arithmetic_mean': 2.2214, 'minimum_value': '1.2', 'maximum_value': '4.5', 'quarterly_criteria_met': 'Y', 'actual_days_gt_std': None, 'estimated_days_gt_std': None, 'valid_samples': '14.0', 'valid_day_count': '14.0', 'scheduled_samples': '15.0', 'percent_days': 15.6, 'percent_one_value': '16.0', 'monitoring_agency_code': '0768', 'monitoring_agency': 'New York State Department Of Environmental Conservation', 'local_site_name': 'IS 52', 'address': 'IS 52    681 KELLY ST', 'state': 'New York', 'county': 'Bronx', 'city': 'New York', 'tribal_code': None, 'tribal_land': None, 'cbsa_code': '35620', 'cbsa': 'New York-Newark-Jersey City, NY-NJ-PA', 'date_of_last_change': '2015-07-09'}}}\n",
      "{'_id': ObjectId('656b691bb11eaa40b8bd753e'), 'features': {'type': 'Feature', 'geometry': {'type': 'Point', 'coordinates': [-73.902, 40.816]}, 'properties': {'state_code': '36', 'county_code': '005', 'site_number': '0110', 'parameter_code': '45201', 'poc': 10, 'latitude': 40.816, 'longitude': -73.902, 'datum': 'WGS84', 'parameter': 'Benzene', 'sample_duration': '24 HOUR', 'sample_duration_code': '7', 'sample_duration_type': 'O', 'pollutant_standard': None, 'year': 2015, 'quarter': '2', 'units_of_measure': 'Parts per billion Carbon', 'event_type': 'No Events', 'observation_count': 15, 'observation_percent': '100.0', 'arithmetic_mean': 0.9667, 'minimum_value': '0.6', 'maximum_value': '1.5', 'quarterly_criteria_met': 'Y', 'actual_days_gt_std': None, 'estimated_days_gt_std': None, 'valid_samples': '15.0', 'valid_day_count': '15.0', 'scheduled_samples': '15.0', 'percent_days': 16.5, 'percent_one_value': '16.0', 'monitoring_agency_code': '0768', 'monitoring_agency': 'New York State Department Of Environmental Conservation', 'local_site_name': 'IS 52', 'address': 'IS 52    681 KELLY ST', 'state': 'New York', 'county': 'Bronx', 'city': 'New York', 'tribal_code': None, 'tribal_land': None, 'cbsa_code': '35620', 'cbsa': 'New York-Newark-Jersey City, NY-NJ-PA', 'date_of_last_change': '2015-09-28'}}}\n",
      "{'_id': ObjectId('656b691bb11eaa40b8bd753f'), 'features': {'type': 'Feature', 'geometry': {'type': 'Point', 'coordinates': [-73.902, 40.816]}, 'properties': {'state_code': '36', 'county_code': '005', 'site_number': '0110', 'parameter_code': '45201', 'poc': 10, 'latitude': 40.816, 'longitude': -73.902, 'datum': 'WGS84', 'parameter': 'Benzene', 'sample_duration': '24 HOUR', 'sample_duration_code': '7', 'sample_duration_type': 'O', 'pollutant_standard': None, 'year': 2015, 'quarter': '3', 'units_of_measure': 'Parts per billion Carbon', 'event_type': 'No Events', 'observation_count': 14, 'observation_percent': '93.0', 'arithmetic_mean': 0.9214, 'minimum_value': '0.5', 'maximum_value': '1.7', 'quarterly_criteria_met': 'Y', 'actual_days_gt_std': None, 'estimated_days_gt_std': None, 'valid_samples': '14.0', 'valid_day_count': '14.0', 'scheduled_samples': '15.0', 'percent_days': 15.2, 'percent_one_value': '15.0', 'monitoring_agency_code': '0768', 'monitoring_agency': 'New York State Department Of Environmental Conservation', 'local_site_name': 'IS 52', 'address': 'IS 52    681 KELLY ST', 'state': 'New York', 'county': 'Bronx', 'city': 'New York', 'tribal_code': None, 'tribal_land': None, 'cbsa_code': '35620', 'cbsa': 'New York-Newark-Jersey City, NY-NJ-PA', 'date_of_last_change': '2016-01-25'}}}\n",
      "{'_id': ObjectId('656b691bb11eaa40b8bd7540'), 'features': {'type': 'Feature', 'geometry': {'type': 'Point', 'coordinates': [-73.902, 40.816]}, 'properties': {'state_code': '36', 'county_code': '005', 'site_number': '0110', 'parameter_code': '45201', 'poc': 10, 'latitude': 40.816, 'longitude': -73.902, 'datum': 'WGS84', 'parameter': 'Benzene', 'sample_duration': '24 HOUR', 'sample_duration_code': '7', 'sample_duration_type': 'O', 'pollutant_standard': None, 'year': 2015, 'quarter': '4', 'units_of_measure': 'Parts per billion Carbon', 'event_type': 'No Events', 'observation_count': 6, 'observation_percent': '40.0', 'arithmetic_mean': 1.2333, 'minimum_value': '0.6', 'maximum_value': '2.3', 'quarterly_criteria_met': 'N', 'actual_days_gt_std': None, 'estimated_days_gt_std': None, 'valid_samples': '6.0', 'valid_day_count': '6.0', 'scheduled_samples': '15.0', 'percent_days': 6.5, 'percent_one_value': '7.0', 'monitoring_agency_code': '0768', 'monitoring_agency': 'New York State Department Of Environmental Conservation', 'local_site_name': 'IS 52', 'address': 'IS 52    681 KELLY ST', 'state': 'New York', 'county': 'Bronx', 'city': 'New York', 'tribal_code': None, 'tribal_land': None, 'cbsa_code': '35620', 'cbsa': 'New York-Newark-Jersey City, NY-NJ-PA', 'date_of_last_change': '2016-01-27'}}}\n",
      "{'_id': ObjectId('656b691bb11eaa40b8bd7541'), 'features': {'type': 'Feature', 'geometry': {'type': 'Point', 'coordinates': [-73.902, 40.816]}, 'properties': {'state_code': '36', 'county_code': '005', 'site_number': '0110', 'parameter_code': '45201', 'poc': 20, 'latitude': 40.816, 'longitude': -73.902, 'datum': 'WGS84', 'parameter': 'Benzene', 'sample_duration': '24 HOUR', 'sample_duration_code': '7', 'sample_duration_type': 'O', 'pollutant_standard': None, 'year': 2015, 'quarter': '1', 'units_of_measure': 'Parts per billion Carbon', 'event_type': 'No Events', 'observation_count': 13, 'observation_percent': '87.0', 'arithmetic_mean': 2.2462, 'minimum_value': '1.2', 'maximum_value': '4.4', 'quarterly_criteria_met': 'Y', 'actual_days_gt_std': None, 'estimated_days_gt_std': None, 'valid_samples': '13.0', 'valid_day_count': '13.0', 'scheduled_samples': '15.0', 'percent_days': 14.4, 'percent_one_value': '14.0', 'monitoring_agency_code': '0768', 'monitoring_agency': 'New York State Department Of Environmental Conservation', 'local_site_name': 'IS 52', 'address': 'IS 52    681 KELLY ST', 'state': 'New York', 'county': 'Bronx', 'city': 'New York', 'tribal_code': None, 'tribal_land': None, 'cbsa_code': '35620', 'cbsa': 'New York-Newark-Jersey City, NY-NJ-PA', 'date_of_last_change': '2015-07-09'}}}\n",
      "{'_id': ObjectId('656b691bb11eaa40b8bd7542'), 'features': {'type': 'Feature', 'geometry': {'type': 'Point', 'coordinates': [-73.902, 40.816]}, 'properties': {'state_code': '36', 'county_code': '005', 'site_number': '0110', 'parameter_code': '45201', 'poc': 20, 'latitude': 40.816, 'longitude': -73.902, 'datum': 'WGS84', 'parameter': 'Benzene', 'sample_duration': '24 HOUR', 'sample_duration_code': '7', 'sample_duration_type': 'O', 'pollutant_standard': None, 'year': 2015, 'quarter': '2', 'units_of_measure': 'Parts per billion Carbon', 'event_type': 'No Events', 'observation_count': 14, 'observation_percent': '93.0', 'arithmetic_mean': 0.9071, 'minimum_value': '0.5', 'maximum_value': '1.5', 'quarterly_criteria_met': 'Y', 'actual_days_gt_std': None, 'estimated_days_gt_std': None, 'valid_samples': '14.0', 'valid_day_count': '14.0', 'scheduled_samples': '15.0', 'percent_days': 15.4, 'percent_one_value': '15.0', 'monitoring_agency_code': '0768', 'monitoring_agency': 'New York State Department Of Environmental Conservation', 'local_site_name': 'IS 52', 'address': 'IS 52    681 KELLY ST', 'state': 'New York', 'county': 'Bronx', 'city': 'New York', 'tribal_code': None, 'tribal_land': None, 'cbsa_code': '35620', 'cbsa': 'New York-Newark-Jersey City, NY-NJ-PA', 'date_of_last_change': '2015-09-28'}}}\n",
      "{'_id': ObjectId('656b691bb11eaa40b8bd7543'), 'features': {'type': 'Feature', 'geometry': {'type': 'Point', 'coordinates': [-73.902, 40.816]}, 'properties': {'state_code': '36', 'county_code': '005', 'site_number': '0110', 'parameter_code': '45201', 'poc': 20, 'latitude': 40.816, 'longitude': -73.902, 'datum': 'WGS84', 'parameter': 'Benzene', 'sample_duration': '24 HOUR', 'sample_duration_code': '7', 'sample_duration_type': 'O', 'pollutant_standard': None, 'year': 2015, 'quarter': '3', 'units_of_measure': 'Parts per billion Carbon', 'event_type': 'No Events', 'observation_count': 14, 'observation_percent': '93.0', 'arithmetic_mean': 0.95, 'minimum_value': '0.5', 'maximum_value': '1.7', 'quarterly_criteria_met': 'Y', 'actual_days_gt_std': None, 'estimated_days_gt_std': None, 'valid_samples': '14.0', 'valid_day_count': '14.0', 'scheduled_samples': '15.0', 'percent_days': 15.2, 'percent_one_value': '15.0', 'monitoring_agency_code': '0768', 'monitoring_agency': 'New York State Department Of Environmental Conservation', 'local_site_name': 'IS 52', 'address': 'IS 52    681 KELLY ST', 'state': 'New York', 'county': 'Bronx', 'city': 'New York', 'tribal_code': None, 'tribal_land': None, 'cbsa_code': '35620', 'cbsa': 'New York-Newark-Jersey City, NY-NJ-PA', 'date_of_last_change': '2016-01-25'}}}\n",
      "{'_id': ObjectId('656b691bb11eaa40b8bd7544'), 'features': {'type': 'Feature', 'geometry': {'type': 'Point', 'coordinates': [-73.902, 40.816]}, 'properties': {'state_code': '36', 'county_code': '005', 'site_number': '0110', 'parameter_code': '45201', 'poc': 20, 'latitude': 40.816, 'longitude': -73.902, 'datum': 'WGS84', 'parameter': 'Benzene', 'sample_duration': '24 HOUR', 'sample_duration_code': '7', 'sample_duration_type': 'O', 'pollutant_standard': None, 'year': 2015, 'quarter': '4', 'units_of_measure': 'Parts per billion Carbon', 'event_type': 'No Events', 'observation_count': 13, 'observation_percent': '87.0', 'arithmetic_mean': 1.6, 'minimum_value': '0.6', 'maximum_value': '3.5', 'quarterly_criteria_met': 'Y', 'actual_days_gt_std': None, 'estimated_days_gt_std': None, 'valid_samples': '13.0', 'valid_day_count': '13.0', 'scheduled_samples': '15.0', 'percent_days': 14.1, 'percent_one_value': '14.0', 'monitoring_agency_code': '0768', 'monitoring_agency': 'New York State Department Of Environmental Conservation', 'local_site_name': 'IS 52', 'address': 'IS 52    681 KELLY ST', 'state': 'New York', 'county': 'Bronx', 'city': 'New York', 'tribal_code': None, 'tribal_land': None, 'cbsa_code': '35620', 'cbsa': 'New York-Newark-Jersey City, NY-NJ-PA', 'date_of_last_change': '2016-02-10'}}}\n"
     ]
    }
   ],
   "source": [
    "myquery = {\"features.geometry.coordinates.0\":-73.902,\"features.geometry.coordinates.1\":40.816}\n",
    "for item in airquality.find(myquery):\n",
    "    print(item)\n",
    "\n"
   ]
  }
 ],
 "metadata": {
  "kernelspec": {
   "display_name": "Python 3 (ipykernel)",
   "language": "python",
   "name": "python3"
  },
  "language_info": {
   "codemirror_mode": {
    "name": "ipython",
    "version": 3
   },
   "file_extension": ".py",
   "mimetype": "text/x-python",
   "name": "python",
   "nbconvert_exporter": "python",
   "pygments_lexer": "ipython3",
   "version": "3.11.5"
  }
 },
 "nbformat": 4,
 "nbformat_minor": 5
}
